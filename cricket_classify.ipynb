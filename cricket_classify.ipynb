{
 "cells": [
  {
   "cell_type": "code",
   "execution_count": 1,
   "metadata": {},
   "outputs": [],
   "source": [
    "from ultralytics import YOLO\n",
    "\n",
    "# Path to the yolov8-cls.yaml file\n",
    "# model_path = '../ultralytics/cfg/models/v8/yolov8-cls-cricket.yaml'\n",
    "model_path = 'model/runs/calssify/train/weights/best.pt'\n",
    "\n",
    "# Load the model with the specified scale\n",
    "model = YOLO(model_path, 'classify', True)\n",
    "# print(\"Guru results: \" + str(model))"
   ]
  },
  {
   "cell_type": "code",
   "execution_count": null,
   "metadata": {},
   "outputs": [],
   "source": [
    "# Train the model\n",
    "model.train(data='dataset', epochs=25, imgsz=640)"
   ]
  },
  {
   "cell_type": "code",
   "execution_count": null,
   "metadata": {},
   "outputs": [],
   "source": [
    "model = YOLO('runs/classify/train3/weights/best.pt', 'classify', False)\n",
    "# Train the model\n",
    "model.train(data='dataset', epochs=200, imgsz=640)"
   ]
  },
  {
   "cell_type": "code",
   "execution_count": 9,
   "metadata": {},
   "outputs": [
    {
     "name": "stdout",
     "output_type": "stream",
     "text": [
      "Guru results: <generator object BasePredictor.stream_inference at 0x000001F56EB620E0>\n",
      "\n",
      "Guru: 0\n",
      "Guru: {0: 'batting', 1: 'bowling', 2: 'fielding', 3: 'others'}\n"
     ]
    },
    {
     "ename": "OSError",
     "evalue": "cannot open resource",
     "output_type": "error",
     "traceback": [
      "\u001b[1;31m---------------------------------------------------------------------------\u001b[0m",
      "\u001b[1;31mOSError\u001b[0m                                   Traceback (most recent call last)",
      "Cell \u001b[1;32mIn[9], line 19\u001b[0m\n\u001b[0;32m     16\u001b[0m draw \u001b[38;5;241m=\u001b[39m ImageDraw\u001b[38;5;241m.\u001b[39mDraw(img, \u001b[38;5;124m\"\u001b[39m\u001b[38;5;124mRGB\u001b[39m\u001b[38;5;124m\"\u001b[39m)\n\u001b[0;32m     18\u001b[0m txt \u001b[38;5;241m=\u001b[39m names[probs\u001b[38;5;241m.\u001b[39mtop1]\n\u001b[1;32m---> 19\u001b[0m myFont \u001b[38;5;241m=\u001b[39m \u001b[43mImageFont\u001b[49m\u001b[38;5;241;43m.\u001b[39;49m\u001b[43mtruetype\u001b[49m\u001b[43m(\u001b[49m\u001b[38;5;124;43m\"\u001b[39;49m\u001b[38;5;124;43mariel.pil\u001b[39;49m\u001b[38;5;124;43m\"\u001b[39;49m\u001b[43m,\u001b[49m\u001b[43m \u001b[49m\u001b[38;5;241;43m65\u001b[39;49m\u001b[43m)\u001b[49m\n\u001b[0;32m     20\u001b[0m draw\u001b[38;5;241m.\u001b[39mtext((\u001b[38;5;241m10\u001b[39m, \u001b[38;5;241m10\u001b[39m), txt, font\u001b[38;5;241m=\u001b[39mmyFont, fill \u001b[38;5;241m=\u001b[39m(\u001b[38;5;241m255\u001b[39m, \u001b[38;5;241m0\u001b[39m, \u001b[38;5;241m0\u001b[39m))\n\u001b[0;32m     21\u001b[0m \u001b[38;5;66;03m# img.save('output/graph.png')\u001b[39;00m\n",
      "File \u001b[1;32m~\\miniforge3\\envs\\ai-ws-py311\\Lib\\site-packages\\PIL\\ImageFont.py:819\u001b[0m, in \u001b[0;36mtruetype\u001b[1;34m(font, size, index, encoding, layout_engine)\u001b[0m\n\u001b[0;32m    816\u001b[0m     \u001b[38;5;28;01mreturn\u001b[39;00m FreeTypeFont(font, size, index, encoding, layout_engine)\n\u001b[0;32m    818\u001b[0m \u001b[38;5;28;01mtry\u001b[39;00m:\n\u001b[1;32m--> 819\u001b[0m     \u001b[38;5;28;01mreturn\u001b[39;00m \u001b[43mfreetype\u001b[49m\u001b[43m(\u001b[49m\u001b[43mfont\u001b[49m\u001b[43m)\u001b[49m\n\u001b[0;32m    820\u001b[0m \u001b[38;5;28;01mexcept\u001b[39;00m \u001b[38;5;167;01mOSError\u001b[39;00m:\n\u001b[0;32m    821\u001b[0m     \u001b[38;5;28;01mif\u001b[39;00m \u001b[38;5;129;01mnot\u001b[39;00m is_path(font):\n",
      "File \u001b[1;32m~\\miniforge3\\envs\\ai-ws-py311\\Lib\\site-packages\\PIL\\ImageFont.py:816\u001b[0m, in \u001b[0;36mtruetype.<locals>.freetype\u001b[1;34m(font)\u001b[0m\n\u001b[0;32m    815\u001b[0m \u001b[38;5;28;01mdef\u001b[39;00m \u001b[38;5;21mfreetype\u001b[39m(font):\n\u001b[1;32m--> 816\u001b[0m     \u001b[38;5;28;01mreturn\u001b[39;00m \u001b[43mFreeTypeFont\u001b[49m\u001b[43m(\u001b[49m\u001b[43mfont\u001b[49m\u001b[43m,\u001b[49m\u001b[43m \u001b[49m\u001b[43msize\u001b[49m\u001b[43m,\u001b[49m\u001b[43m \u001b[49m\u001b[43mindex\u001b[49m\u001b[43m,\u001b[49m\u001b[43m \u001b[49m\u001b[43mencoding\u001b[49m\u001b[43m,\u001b[49m\u001b[43m \u001b[49m\u001b[43mlayout_engine\u001b[49m\u001b[43m)\u001b[49m\n",
      "File \u001b[1;32m~\\miniforge3\\envs\\ai-ws-py311\\Lib\\site-packages\\PIL\\ImageFont.py:245\u001b[0m, in \u001b[0;36mFreeTypeFont.__init__\u001b[1;34m(self, font, size, index, encoding, layout_engine)\u001b[0m\n\u001b[0;32m    243\u001b[0m                 load_from_bytes(f)\n\u001b[0;32m    244\u001b[0m             \u001b[38;5;28;01mreturn\u001b[39;00m\n\u001b[1;32m--> 245\u001b[0m     \u001b[38;5;28mself\u001b[39m\u001b[38;5;241m.\u001b[39mfont \u001b[38;5;241m=\u001b[39m \u001b[43mcore\u001b[49m\u001b[38;5;241;43m.\u001b[39;49m\u001b[43mgetfont\u001b[49m\u001b[43m(\u001b[49m\n\u001b[0;32m    246\u001b[0m \u001b[43m        \u001b[49m\u001b[43mfont\u001b[49m\u001b[43m,\u001b[49m\u001b[43m \u001b[49m\u001b[43msize\u001b[49m\u001b[43m,\u001b[49m\u001b[43m \u001b[49m\u001b[43mindex\u001b[49m\u001b[43m,\u001b[49m\u001b[43m \u001b[49m\u001b[43mencoding\u001b[49m\u001b[43m,\u001b[49m\u001b[43m \u001b[49m\u001b[43mlayout_engine\u001b[49m\u001b[38;5;241;43m=\u001b[39;49m\u001b[43mlayout_engine\u001b[49m\n\u001b[0;32m    247\u001b[0m \u001b[43m    \u001b[49m\u001b[43m)\u001b[49m\n\u001b[0;32m    248\u001b[0m \u001b[38;5;28;01melse\u001b[39;00m:\n\u001b[0;32m    249\u001b[0m     load_from_bytes(font)\n",
      "\u001b[1;31mOSError\u001b[0m: cannot open resource"
     ]
    }
   ],
   "source": [
    "from PIL import Image, ImageDraw, ImageFont\n",
    "\n",
    "img_path = 'test_model/scene09901.jpg'\n",
    "results = model.predict(img_path, stream=True)\n",
    "print(\"Guru results: \" + str(results))\n",
    "\n",
    "# Visualize the results\n",
    "for i, r in enumerate(results):\n",
    "    probs = r.probs\n",
    "    top1 = probs.top1\n",
    "    print(\"Guru: \" + str(top1))\n",
    "    names = r.names \n",
    "    print(\"Guru: \" + str(names))\n",
    "\n",
    "    img = Image.open(img_path)\n",
    "    draw = ImageDraw.Draw(img, \"RGB\")\n",
    "\n",
    "    txt = names[probs.top1]\n",
    "    myFont = ImageFont.load_default(65)\n",
    "    draw.text((10, 10), txt, font=myFont, fill =(255, 0, 0))\n",
    "    # img.save('output/graph.png')\n",
    "    img.show()\n",
    "    \n",
    "#     # Plot results image\n",
    "#     im_bgr = r.plot()  # BGR-order numpy array\n",
    "#     im_rgb = Image.fromarray(im_bgr[..., ::-1])  # RGB-order PIL image\n",
    "\n",
    "#     # Show results to screen (in supported environments)\n",
    "#     r.show()\n",
    "\n",
    "#     # Save results to disk\n",
    "#     r.save(filename=f'results{i}.jpg')\n",
    "\n",
    "# detected_objects = parse_output(output)"
   ]
  },
  {
   "cell_type": "code",
   "execution_count": null,
   "metadata": {},
   "outputs": [],
   "source": [
    "!yolo predict model=runs/classify/train3/weights/best.pt source='test_model/scene09201.jpg'"
   ]
  },
  {
   "cell_type": "code",
   "execution_count": null,
   "metadata": {},
   "outputs": [],
   "source": [
    "!yolo predict model=runs/classify/train3/weights/best.pt source='test_model/scene09381.jpg'"
   ]
  },
  {
   "cell_type": "code",
   "execution_count": null,
   "metadata": {},
   "outputs": [],
   "source": [
    "!yolo predict model=runs/classify/train7/weights/best.pt source='test_model/field_test_1.jpg'"
   ]
  },
  {
   "cell_type": "code",
   "execution_count": null,
   "metadata": {},
   "outputs": [],
   "source": [
    "!yolo predict model=runs/classify/train7/weights/best.pt source='test_model/field_test_2.jpg'"
   ]
  },
  {
   "cell_type": "code",
   "execution_count": null,
   "metadata": {},
   "outputs": [],
   "source": [
    "!yolo predict model=runs/classify/train7/weights/best.pt source='test_model/test_running.jpg'"
   ]
  },
  {
   "cell_type": "code",
   "execution_count": null,
   "metadata": {},
   "outputs": [],
   "source": [
    "!yolo predict model=runs/classify/train7/weights/best.pt source='test_model/bowl_test_2.jpg'"
   ]
  }
 ],
 "metadata": {
  "kernelspec": {
   "display_name": "Python 3 (ipykernel)",
   "language": "python",
   "name": "python3"
  },
  "language_info": {
   "codemirror_mode": {
    "name": "ipython",
    "version": 3
   },
   "file_extension": ".py",
   "mimetype": "text/x-python",
   "name": "python",
   "nbconvert_exporter": "python",
   "pygments_lexer": "ipython3",
   "version": "3.11.0"
  }
 },
 "nbformat": 4,
 "nbformat_minor": 2
}
